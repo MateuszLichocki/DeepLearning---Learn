{
 "cells": [
  {
   "cell_type": "markdown",
   "metadata": {},
   "source": [
    "# Pierwszy własny trening CNN"
   ]
  },
  {
   "cell_type": "code",
   "execution_count": 3,
   "metadata": {},
   "outputs": [],
   "source": [
    "import urllib\n",
    "import numpy as np\n",
    "import matplotlib.pyplot as plt\n",
    "import os\n",
    "import gc"
   ]
  },
  {
   "cell_type": "markdown",
   "metadata": {},
   "source": [
    "# Wybierz 10 klas\n",
    "\n",
    "Poniżej przygotuj listę 10 klas z:\n",
    "https://quickdraw.withgoogle.com/data\n",
    "\n",
    "> nazwy takie jak nazwy obiektów (wyświetlane po najechaniu lub kliknięciu)"
   ]
  },
  {
   "cell_type": "code",
   "execution_count": 4,
   "metadata": {},
   "outputs": [],
   "source": [
    "class_names=['ambulance','bulldozer','bus','car','firetruck','helicopter','motorbike','truck','tractor','train']"
   ]
  },
  {
   "cell_type": "markdown",
   "metadata": {},
   "source": [
    "## Test"
   ]
  },
  {
   "cell_type": "code",
   "execution_count": 5,
   "metadata": {},
   "outputs": [],
   "source": [
    "assert len(class_names)==10, 'Nazw powinno być dokładnie 10'\n",
    "for i in range(len(class_names)):\n",
    "    assert type(class_names[i])==str, 'Każda z nazw powinna być typu str'\n",
    "    assert '/' not in class_names[i], 'Same nazwy klas, ze spacjami, bez ukośników'"
   ]
  },
  {
   "cell_type": "markdown",
   "metadata": {},
   "source": [
    "# Wczytanie danych\n",
    "Pobieranie plików z obrazami w formaci npy (numpy)"
   ]
  },
  {
   "cell_type": "code",
   "execution_count": 6,
   "metadata": {},
   "outputs": [],
   "source": [
    "for name in class_names:\n",
    "    url = 'https://storage.googleapis.com/quickdraw_dataset/full/numpy_bitmap/%s.npy'%name\n",
    "    file_name = url.split('/')[-1].split('?')[0]\n",
    "\n",
    "    url = url.replace(' ','%20')\n",
    "    \n",
    "    if not os.path.isfile(file_name):\n",
    "        print(url, '==>', file_name)\n",
    "        urllib.request.urlretrieve(url, file_name)"
   ]
  },
  {
   "cell_type": "markdown",
   "metadata": {},
   "source": [
    "## Wczytywanie z plików .npy\n",
    "Dane znajdziesz w tablicy data"
   ]
  },
  {
   "cell_type": "code",
   "execution_count": 7,
   "metadata": {},
   "outputs": [
    {
     "name": "stdout",
     "output_type": "stream",
     "text": [
      "ambulance       <class 'numpy.ndarray'>\n",
      "bulldozer       <class 'numpy.ndarray'>\n",
      "bus             <class 'numpy.ndarray'>\n",
      "car             <class 'numpy.ndarray'>\n",
      "firetruck       <class 'numpy.ndarray'>\n",
      "helicopter      <class 'numpy.ndarray'>\n",
      "motorbike       <class 'numpy.ndarray'>\n",
      "truck           <class 'numpy.ndarray'>\n",
      "tractor         <class 'numpy.ndarray'>\n",
      "train           <class 'numpy.ndarray'>\n"
     ]
    }
   ],
   "source": [
    "data = []\n",
    "for name in class_names:\n",
    "    file_name = name+'.npy'\n",
    "    data.append(np.load(file_name, fix_imports=True, allow_pickle=True))\n",
    "    print('%-15s'%name,type(data[-1]))"
   ]
  },
  {
   "cell_type": "markdown",
   "metadata": {},
   "source": [
    "# Liczebności i wymiary zdjęć\n",
    "Wypisz nazwę i shape dla każdej klasy"
   ]
  },
  {
   "cell_type": "code",
   "execution_count": 8,
   "metadata": {},
   "outputs": [
    {
     "name": "stdout",
     "output_type": "stream",
     "text": [
      "ambulance       (148004, 784)\n",
      "bulldozer       (187409, 784)\n",
      "bus             (166208, 784)\n",
      "car             (182764, 784)\n",
      "firetruck       (220695, 784)\n",
      "helicopter      (159938, 784)\n",
      "motorbike       (169931, 784)\n",
      "truck           (131354, 784)\n",
      "tractor         (116677, 784)\n",
      "train           (127948, 784)\n"
     ]
    }
   ],
   "source": [
    "for i in range(len(class_names)):\n",
    "     print('%-15s'%class_names[i], data[i].shape)"
   ]
  },
  {
   "cell_type": "markdown",
   "metadata": {},
   "source": [
    "Poniżej zwizualizuj liczbę zdjęć per klasę:"
   ]
  },
  {
   "cell_type": "code",
   "execution_count": 9,
   "metadata": {},
   "outputs": [
    {
     "data": {
      "text/plain": [
       "([<matplotlib.axis.XTick at 0x24a75dadc30>,\n",
       "  <matplotlib.axis.XTick at 0x24a75dadc00>,\n",
       "  <matplotlib.axis.XTick at 0x24a75dad900>,\n",
       "  <matplotlib.axis.XTick at 0x24a75dfb9a0>,\n",
       "  <matplotlib.axis.XTick at 0x24a75dfb550>,\n",
       "  <matplotlib.axis.XTick at 0x24a75e485b0>,\n",
       "  <matplotlib.axis.XTick at 0x24a75e48d00>,\n",
       "  <matplotlib.axis.XTick at 0x24a75e49450>,\n",
       "  <matplotlib.axis.XTick at 0x24a75e49ba0>,\n",
       "  <matplotlib.axis.XTick at 0x24a75e4a2f0>],\n",
       " [Text(0.0, 0, 'ambulance'),\n",
       "  Text(1.0, 0, 'bulldozer'),\n",
       "  Text(2.0, 0, 'bus'),\n",
       "  Text(3.0, 0, 'car'),\n",
       "  Text(4.0, 0, 'firetruck'),\n",
       "  Text(5.0, 0, 'helicopter'),\n",
       "  Text(6.0, 0, 'motorbike'),\n",
       "  Text(7.0, 0, 'truck'),\n",
       "  Text(8.0, 0, 'tractor'),\n",
       "  Text(9.0, 0, 'train')])"
      ]
     },
     "execution_count": 9,
     "metadata": {},
     "output_type": "execute_result"
    },
    {
     "data": {
      "image/png": "[encoded data removed]",
      "text/plain": [
       "<Figure size 432x288 with 1 Axes>"
      ]
     },
     "metadata": {
      "needs_background": "light"
     },
     "output_type": "display_data"
    }
   ],
   "source": [
    "plt.bar(class_names,[len(d) for d in data])\n",
    "plt.xticks(class_names, class_names, rotation=90) "
   ]
  },
  {
   "cell_type": "markdown",
   "metadata": {},
   "source": [
    "# Wizualizacja danych\n",
    "Dane są w macierzach dwuwyamirowych,\n",
    "aby je poprawnie wyświetlić jako obraz,\n",
    "należy je przekonwertować do 3 wymiarów:\n",
    "\n",
    "- numer zdjęcia\n",
    "- wysokość\n",
    "- szerokość\n",
    "\n",
    "Tu pomoże `reshape` z numpy.\n",
    "\n",
    "## Konwersja do (-1, 28, 28)"
   ]
  },
  {
   "cell_type": "code",
   "execution_count": 10,
   "metadata": {},
   "outputs": [
    {
     "name": "stdout",
     "output_type": "stream",
     "text": [
      "(28, 28) uint8\n"
     ]
    },
    {
     "data": {
      "image/png": "[encoded data removed]",
      "text/plain": [
       "<Figure size 432x288 with 1 Axes>"
      ]
     },
     "metadata": {
      "needs_background": "light"
     },
     "output_type": "display_data"
    }
   ],
   "source": [
    "img=np.reshape(data[0][0],(28,28))\n",
    "print(img.shape,img.dtype)\n",
    "plt.imshow(img,cmap='gray');"
   ]
  },
  {
   "cell_type": "markdown",
   "metadata": {},
   "source": [
    "Wyświetl po jednym przykładzie z każdej klasy.\n",
    "\n",
    "Możesz skorzystać z `plt.subplot`"
   ]
  },
  {
   "cell_type": "code",
   "execution_count": 11,
   "metadata": {},
   "outputs": [
    {
     "name": "stdout",
     "output_type": "stream",
     "text": [
      "(148004, 784) uint8\n"
     ]
    }
   ],
   "source": [
    "print(data[0].shape,data[0].dtype)"
   ]
  },
  {
   "cell_type": "code",
   "execution_count": 12,
   "metadata": {},
   "outputs": [],
   "source": [
    "data = [_.reshape(-1,28,28) for _ in data]"
   ]
  },
  {
   "cell_type": "code",
   "execution_count": 13,
   "metadata": {},
   "outputs": [
    {
     "data": {
      "image/png": "[encoded data removed]",
      "text/plain": [
       "<Figure size 1440x720 with 10 Axes>"
      ]
     },
     "metadata": {
      "needs_background": "light"
     },
     "output_type": "display_data"
    }
   ],
   "source": [
    "plt.figure(figsize=(20,10))\n",
    "i=0\n",
    "for name in class_names:\n",
    "    plt.subplot(2,5,1+i)\n",
    "    img=data[i][0]\n",
    "    plt.title(name)\n",
    "    plt.imshow(img,cmap='gray',vmin=0, vmax=255)\n",
    "    plt.axis('off')\n",
    "    i=i+1"
   ]
  },
  {
   "cell_type": "markdown",
   "metadata": {},
   "source": [
    "## Obraz średni\n",
    "Jak podobne do siebie są obrazy z poszczególnych klas?\n",
    "\n",
    "Oblicz i wyświetl średni obraz dla wszystkich klas.\n",
    "\n",
    "Możesz skorzystać z `np.mean`"
   ]
  },
  {
   "cell_type": "code",
   "execution_count": 14,
   "metadata": {},
   "outputs": [
    {
     "name": "stdout",
     "output_type": "stream",
     "text": [
      "(148004, 28, 28)\n"
     ]
    }
   ],
   "source": [
    "print(data[0].shape)"
   ]
  },
  {
   "cell_type": "code",
   "execution_count": 15,
   "metadata": {},
   "outputs": [
    {
     "data": {
      "image/png": "[encoded data removed]",
      "text/plain": [
       "<Figure size 1440x720 with 10 Axes>"
      ]
     },
     "metadata": {
      "needs_background": "light"
     },
     "output_type": "display_data"
    }
   ],
   "source": [
    "plt.figure(figsize=(20,10))\n",
    "i=0\n",
    "for name in class_names:\n",
    "    plt.subplot(2,5,1+i)\n",
    "    img=np.mean(data[i], axis=0)\n",
    "    plt.title(name)\n",
    "    plt.imshow(img,cmap='gray',vmin=0, vmax=255)\n",
    "    plt.axis('off')\n",
    "    i=i+1"
   ]
  },
  {
   "cell_type": "markdown",
   "metadata": {},
   "source": [
    "# Trening w TensorFlow"
   ]
  },
  {
   "cell_type": "code",
   "execution_count": 16,
   "metadata": {},
   "outputs": [
    {
     "data": {
      "text/plain": [
       "[PhysicalDevice(name='/physical_device:GPU:0', device_type='GPU')]"
      ]
     },
     "execution_count": 16,
     "metadata": {},
     "output_type": "execute_result"
    }
   ],
   "source": [
    "import matplotlib.pyplot as plt\n",
    "import numpy as np\n",
    "import seaborn as sns\n",
    "sns.set(style='whitegrid', font_scale=1.5)\n",
    "import tensorflow as tf\n",
    "\n",
    "for gpu in tf.config.list_physical_devices('GPU'):\n",
    "    tf.config.experimental.set_memory_growth(gpu, True)\n",
    "    \n",
    "tf.config.list_physical_devices('GPU')"
   ]
  },
  {
   "cell_type": "code",
   "execution_count": 18,
   "metadata": {},
   "outputs": [
    {
     "name": "stdout",
     "output_type": "stream",
     "text": [
      "Num GPUs Available:  1\n"
     ]
    }
   ],
   "source": [
    "print(\"Num GPUs Available: \", len(tf.config.list_physical_devices('GPU')))"
   ]
  },
  {
   "cell_type": "markdown",
   "metadata": {},
   "source": [
    "# Przygotowanie danych\n",
    "Przygotowanie listy etykiet oraz macierzy zdjęć\n",
    "Przygotuj:\n",
    "- [ ] X - jako macierz numpy w której będą wszystkie zdjęcia\n",
    "- [ ] y - jako macierz numpy w której będą wszystkie etykiety (jako numer klasy)\n",
    "- [ ] wykonaj reshape dla X do (-1,28,28,1)\n"
   ]
  },
  {
   "cell_type": "code",
   "execution_count": 19,
   "metadata": {},
   "outputs": [
    {
     "name": "stdout",
     "output_type": "stream",
     "text": [
      "(1610928, 28, 28)\n",
      "(1610928, 28, 28, 1)\n"
     ]
    }
   ],
   "source": [
    "X=np.concatenate((data), axis=0)  \n",
    "print(X.shape)\n",
    "X=X.reshape(-1,28,28,1)\n",
    "print(X.shape)"
   ]
  },
  {
   "cell_type": "code",
   "execution_count": 20,
   "metadata": {},
   "outputs": [
    {
     "name": "stdout",
     "output_type": "stream",
     "text": [
      "(1610928,)\n",
      "[0 0 0 ... 9 9 9]\n"
     ]
    }
   ],
   "source": [
    "y=[]\n",
    "for i in range(len(class_names)):\n",
    "    Label=[i]\n",
    "    #print(Label)\n",
    "    elements=data[i].shape[0]\n",
    "    #print(elements)\n",
    "    y=y+Label*elements\n",
    "y=np.array(y)\n",
    "print(y.shape)\n",
    "print(y)"
   ]
  },
  {
   "cell_type": "markdown",
   "metadata": {},
   "source": [
    "## Test"
   ]
  },
  {
   "cell_type": "code",
   "execution_count": 21,
   "metadata": {},
   "outputs": [],
   "source": [
    "assert type(X)==np.ndarray,                 \"X powinno być macierzą numpy\"\n",
    "assert type(y)==np.ndarray,                 \"y powinno być macierzą numpy\"\n",
    "assert len(X)==sum([len(_) for _ in data]), \"X powinno mieć tyle samo przykładów ile jest w data\"\n",
    "assert len(y)==sum([len(_) for _ in data]), \"Y powinno mieć tyle samo etykiet ile jest przykładów w data\"\n",
    "assert len(X.shape)==4,                     \"X - Wymagane są 4 wymiary - index, wysokość, szerokość, głębokość\"\n",
    "assert len(y.shape)==1,                     \"y - Wymagany jest 1 wymiar\"\n",
    "assert X.shape[1:]==(28,28,1),              \"Zdjęcia powinny być 28x28x1\""
   ]
  },
  {
   "cell_type": "markdown",
   "metadata": {},
   "source": [
    "## Normalizacja\n",
    "\n",
    "Przygotuj dane (X) w taki sposób by wartości były bliskie zera.\n",
    "W celu zachowania prostoty - podziel wartości przez 255, a nie przez najwyższą wartość.\n",
    "Nie przesuwaj średniej do zera, i nie normalizuj odchylenia."
   ]
  },
  {
   "cell_type": "code",
   "execution_count": 22,
   "metadata": {},
   "outputs": [
    {
     "name": "stdout",
     "output_type": "stream",
     "text": [
      "X min: 0\n",
      "X max: 255\n",
      "After normalization:\n",
      "X min: 0.0\n",
      "X max: 1.0\n",
      "(1610928, 28, 28, 1)\n"
     ]
    }
   ],
   "source": [
    "print(\"X min:\",np.min(X))\n",
    "print(\"X max:\",np.max(X))\n",
    "X = X / 255\n",
    "print(\"After normalization:\")\n",
    "print(\"X min:\",np.min(X))\n",
    "print(\"X max:\",np.max(X))\n",
    "print(X.shape)"
   ]
  },
  {
   "cell_type": "markdown",
   "metadata": {},
   "source": [
    "### Test"
   ]
  },
  {
   "cell_type": "code",
   "execution_count": 23,
   "metadata": {},
   "outputs": [],
   "source": [
    "assert np.max(X)<=1, \"Największa wartość nie może być większa niż 1\"\n",
    "assert np.min(X)>=0, \"Pracujmy w zakresie od 0..1\""
   ]
  },
  {
   "cell_type": "markdown",
   "metadata": {},
   "source": [
    "## Podział zbioru danych\n",
    "\n",
    "Podziel zbiór zachowując ten sam stosunek liczby klas w train i val.\n",
    "Do podziału użyj `train_test_split` z `sklearn`."
   ]
  },
  {
   "cell_type": "code",
   "execution_count": 24,
   "metadata": {},
   "outputs": [],
   "source": [
    "from sklearn.model_selection import train_test_split"
   ]
  },
  {
   "cell_type": "code",
   "execution_count": 25,
   "metadata": {},
   "outputs": [],
   "source": [
    " X_train, X_val, y_train, y_val = train_test_split(X, y, test_size=0.5, stratify=y) #stratify=y - the same proportion of class in training and validation set\n",
    " #X_train, X_val, y_train, y_val = train_test_split(X, y, test_size=0.5, random_state=1)"
   ]
  },
  {
   "cell_type": "markdown",
   "metadata": {},
   "source": [
    "### Wizualizacja podziału\n",
    "\n",
    "Przygotuj wykres, który pokaże jak dane train i val sumują się dla poszczególnych klas (trening+val powinny być jako jeden słupek, sumarycznie wysokości słupka przed podziałem). Podpowiedź - stacked bar plot.\n",
    "Przygotuj drugi wykres, który pokaże czy zbiór danych jest podzielony z zachowaniem stosunku liczebności poszczególnych klas (zachowanie procentowych udziałów klas w zbiorze)."
   ]
  },
  {
   "cell_type": "code",
   "execution_count": 26,
   "metadata": {},
   "outputs": [
    {
     "name": "stdout",
     "output_type": "stream",
     "text": [
      "(805464,)\n",
      "(805464,)\n"
     ]
    }
   ],
   "source": [
    "print(y_val.shape)\n",
    "print(y_train.shape)"
   ]
  },
  {
   "cell_type": "code",
   "execution_count": 27,
   "metadata": {},
   "outputs": [
    {
     "name": "stdout",
     "output_type": "stream",
     "text": [
      "(805464, 28, 28, 1)\n",
      "(805464, 28, 28, 1)\n"
     ]
    }
   ],
   "source": [
    "print(X_train.shape)\n",
    "print(X_val.shape)"
   ]
  },
  {
   "cell_type": "code",
   "execution_count": 28,
   "metadata": {},
   "outputs": [
    {
     "name": "stdout",
     "output_type": "stream",
     "text": [
      "[74002, 93705, 83104, 91382, 110348, 79969, 84965, 65677, 58338, 63974]\n",
      "[74002, 93704, 83104, 91382, 110347, 79969, 84966, 65677, 58339, 63974]\n"
     ]
    }
   ],
   "source": [
    "train_size=[]\n",
    "val_size=[]\n",
    "for i in range(len(class_names)):\n",
    "    train_size.append(np.sum(y_train == i))\n",
    "    val_size.append(np.sum(y_val == i))\n",
    "print(train_size)\n",
    "print(val_size)"
   ]
  },
  {
   "cell_type": "code",
   "execution_count": 29,
   "metadata": {},
   "outputs": [
    {
     "data": {
      "image/png": "[encoded data removed]",
      "text/plain": [
       "<Figure size 432x288 with 1 Axes>"
      ]
     },
     "metadata": {},
     "output_type": "display_data"
    }
   ],
   "source": [
    "labels = class_names\n",
    "width = 0.35  \n",
    "fig, ax = plt.subplots()\n",
    "\n",
    "ax.bar(labels, train_size, width, label='train')\n",
    "ax.bar(labels, val_size, width, bottom=train_size, label='val')\n",
    "\n",
    "plt.xticks(class_names, class_names, rotation=90) \n",
    "ax.legend()\n",
    "plt.show()"
   ]
  },
  {
   "cell_type": "code",
   "execution_count": 30,
   "metadata": {},
   "outputs": [],
   "source": [
    "class_size=[(len(d)/len(y))*100 for d in data]\n"
   ]
  },
  {
   "cell_type": "code",
   "execution_count": 31,
   "metadata": {},
   "outputs": [
    {
     "data": {
      "text/plain": [
       "Text(0, 0.5, '% udziału klasy w całym zbiorze')"
      ]
     },
     "execution_count": 31,
     "metadata": {},
     "output_type": "execute_result"
    },
    {
     "data": {
      "image/png": "[encoded data removed]",
      "text/plain": [
       "<Figure size 432x288 with 1 Axes>"
      ]
     },
     "metadata": {},
     "output_type": "display_data"
    }
   ],
   "source": [
    "plt.bar(class_names,class_size)\n",
    "plt.xticks(class_names, class_names, rotation=90) \n",
    "plt.ylabel('% udziału klasy w całym zbiorze')"
   ]
  },
  {
   "cell_type": "code",
   "execution_count": 32,
   "metadata": {},
   "outputs": [
    {
     "name": "stdout",
     "output_type": "stream",
     "text": [
      "Training   X: (805464, 28, 28, 1) y: (805464,)\n",
      "Validation X: (805464, 28, 28, 1) y: (805464,)\n",
      "X min: 0.0\n",
      "X max: 1.0\n"
     ]
    }
   ],
   "source": [
    "print(\"Training   X:\",X_train.shape, 'y:', y_train.shape)\n",
    "print(\"Validation X:\",X_val.shape, 'y:', y_val.shape)\n",
    "print(\"X min:\",np.min(X_train))\n",
    "print(\"X max:\",np.max(X_train))"
   ]
  },
  {
   "cell_type": "markdown",
   "metadata": {},
   "source": [
    "## Test podziału danych"
   ]
  },
  {
   "cell_type": "code",
   "execution_count": 33,
   "metadata": {},
   "outputs": [],
   "source": [
    "assert all((np.unique(y_train, return_counts=True)[1]/len(y_train)).round(2) == (np.unique(y_val, return_counts=True)[1]/len(y_val)).round(2)), \"Nierówny podział danych, zadbaj by rozkład w train i val były takie same\""
   ]
  },
  {
   "cell_type": "markdown",
   "metadata": {},
   "source": [
    "# Przygotuj model\n",
    "\n",
    "- Wykorzystaj warstwy konwolucyjne (minimum 1), pamiętaj o funkcjach aktywacji\n",
    "- Wykorzystaj Flatten\n",
    "- Model powinien mieć:\n",
    "  - wejście 28,28,1\n",
    "  - 10 wyjść\n",
    "  - Adama jako optymalizator\n",
    "  - sparse CE loss\n",
    "  - warto dodać accuracy jako metrykę\n"
   ]
  },
  {
   "cell_type": "code",
   "execution_count": 34,
   "metadata": {},
   "outputs": [
    {
     "name": "stdout",
     "output_type": "stream",
     "text": [
      "Model: \"sequential\"\n",
      "_________________________________________________________________\n",
      " Layer (type)                Output Shape              Param #   \n",
      "=================================================================\n",
      " conv2d (Conv2D)             (None, 26, 26, 8)         80        \n",
      "                                                                 \n",
      " conv2d_1 (Conv2D)           (None, 24, 24, 16)        1168      \n",
      "                                                                 \n",
      " conv2d_2 (Conv2D)           (None, 22, 22, 32)        4640      \n",
      "                                                                 \n",
      " flatten (Flatten)           (None, 15488)             0         \n",
      "                                                                 \n",
      " dense (Dense)               (None, 10)                154890    \n",
      "                                                                 \n",
      "=================================================================\n",
      "Total params: 160,778\n",
      "Trainable params: 160,778\n",
      "Non-trainable params: 0\n",
      "_________________________________________________________________\n"
     ]
    }
   ],
   "source": [
    "def getModel():\n",
    "    model = tf.keras.models.Sequential([\n",
    "                tf.keras.layers.Conv2D(8,(3,3), activation='relu',input_shape=(28, 28,1)),\n",
    "                tf.keras.layers.Conv2D(16,(3,3), activation='relu'),\n",
    "                tf.keras.layers.Conv2D(32,(3,3), activation='relu'),\n",
    "                tf.keras.layers.Flatten(),\n",
    "                tf.keras.layers.Dense(10, activation='softmax')])\n",
    "    model.compile(optimizer='adam',\n",
    "                  loss='sparse_categorical_crossentropy',\n",
    "                  metrics=['accuracy'])\n",
    "    return model\n",
    "model = getModel()\n",
    "model.summary()"
   ]
  },
  {
   "cell_type": "code",
   "execution_count": 35,
   "metadata": {},
   "outputs": [
    {
     "name": "stdout",
     "output_type": "stream",
     "text": [
      "631483776\n",
      "805464\n",
      "631483776\n",
      "805464\n"
     ]
    }
   ],
   "source": [
    "print(X_val.size)\n",
    "print(y_val.size)\n",
    "print(X_train.size)\n",
    "print(y_train.size)"
   ]
  },
  {
   "cell_type": "code",
   "execution_count": 36,
   "metadata": {},
   "outputs": [
    {
     "name": "stdout",
     "output_type": "stream",
     "text": [
      "Mon Jul 18 21:47:17 2022       \n",
      "+-----------------------------------------------------------------------------+\n",
      "| NVIDIA-SMI 460.89       Driver Version: 460.89       CUDA Version: 11.2     |\n",
      "|-------------------------------+----------------------+----------------------+\n",
      "| GPU  Name            TCC/WDDM | Bus-Id        Disp.A | Volatile Uncorr. ECC |\n",
      "| Fan  Temp  Perf  Pwr:Usage/Cap|         Memory-Usage | GPU-Util  Compute M. |\n",
      "|                               |                      |               MIG M. |\n",
      "|===============================+======================+======================|\n",
      "|   0  GeForce GTX 105... WDDM  | 00000000:01:00.0 Off |                  N/A |\n",
      "| N/A   40C    P0    N/A /  N/A |    205MiB /  2048MiB |      0%      Default |\n",
      "|                               |                      |                  N/A |\n",
      "+-------------------------------+----------------------+----------------------+\n",
      "                                                                               \n",
      "+-----------------------------------------------------------------------------+\n",
      "| Processes:                                                                  |\n",
      "|  GPU   GI   CI        PID   Type   Process name                  GPU Memory |\n",
      "|        ID   ID                                                   Usage      |\n",
      "|=============================================================================|\n",
      "|    0   N/A  N/A      1336    C+G   Insufficient Permissions        N/A      |\n",
      "|    0   N/A  N/A      2140    C+G   ...m Files (x86)\\SCM\\SCM.exe    N/A      |\n",
      "|    0   N/A  N/A      3148    C+G   ...erver\\YourPhoneServer.exe    N/A      |\n",
      "|    0   N/A  N/A      6372    C+G   ...kyb3d8bbwe\\Calculator.exe    N/A      |\n",
      "|    0   N/A  N/A      9456    C+G   ...2txyewy\\TextInputHost.exe    N/A      |\n",
      "|    0   N/A  N/A     13776    C+G   ...artMenuExperienceHost.exe    N/A      |\n",
      "|    0   N/A  N/A     14624    C+G   ...5n1h2txyewy\\SearchApp.exe    N/A      |\n",
      "|    0   N/A  N/A     14740    C+G   ...ekyb3d8bbwe\\YourPhone.exe    N/A      |\n",
      "|    0   N/A  N/A     15152    C+G   ...5n1h2txyewy\\SearchApp.exe    N/A      |\n",
      "|    0   N/A  N/A     15900    C+G   ...cw5n1h2txyewy\\LockApp.exe    N/A      |\n",
      "|    0   N/A  N/A     16940    C+G   ...8wekyb3d8bbwe\\Cortana.exe    N/A      |\n",
      "|    0   N/A  N/A     17276    C+G   Insufficient Permissions        N/A      |\n",
      "|    0   N/A  N/A     17988    C+G   ...8wekyb3d8bbwe\\GameBar.exe    N/A      |\n",
      "|    0   N/A  N/A     18828      C   ....conda\\envs\\dl\\python.exe    N/A      |\n",
      "+-----------------------------------------------------------------------------+\n"
     ]
    }
   ],
   "source": [
    "!nvidia-smi"
   ]
  },
  {
   "cell_type": "markdown",
   "metadata": {},
   "source": [
    "# Trening\n",
    "\n",
    "Wykonaj trening:\n",
    "- 10 epok\n",
    "- batch size - wybierz pomiędzy 1 a ile Ci się zmieści na GPU (np. 256)\n",
    "- z walidacją\n",
    "- zapisz wynik funkcji model.fit do zmiennej `history`"
   ]
  },
  {
   "cell_type": "code",
   "execution_count": 37,
   "metadata": {},
   "outputs": [
    {
     "data": {
      "image/png": "[encoded data removed]",
      "text/plain": [
       "<Figure size 1440x720 with 20 Axes>"
      ]
     },
     "metadata": {},
     "output_type": "display_data"
    }
   ],
   "source": [
    "#przykłady ze zbioru treningowego\n",
    "plt.figure(figsize=(20,10))\n",
    "i=0\n",
    "testowy_X=X_train[:20]\n",
    "testowy_Y=y_train[:20]\n",
    "for name in testowy_Y:\n",
    "    plt.subplot(4,5,1+i)\n",
    "    img=testowy_X[i]\n",
    "    plt.title(class_names[name])\n",
    "    plt.imshow(img,cmap='gray',vmin=0, vmax=1)\n",
    "    plt.axis('off')\n",
    "\n",
    "    i=i+1"
   ]
  },
  {
   "cell_type": "code",
   "execution_count": 38,
   "metadata": {},
   "outputs": [
    {
     "data": {
      "image/png": "[encoded data removed]",
      "text/plain": [
       "<Figure size 1440x720 with 20 Axes>"
      ]
     },
     "metadata": {},
     "output_type": "display_data"
    }
   ],
   "source": [
    "#przykłady ze zbioru walidacyjnego\n",
    "plt.figure(figsize=(20,10))\n",
    "i=0\n",
    "val_testowy_X=X_val[:20]\n",
    "val_testowy_Y=y_val[:20]\n",
    "for name in val_testowy_Y:\n",
    "    plt.subplot(4,5,1+i)\n",
    "    img=val_testowy_X[i]\n",
    "    plt.title(class_names[name])\n",
    "    plt.imshow(img,cmap='gray',vmin=0, vmax=1)\n",
    "    plt.axis('off')\n",
    "    i=i+1"
   ]
  },
  {
   "cell_type": "code",
   "execution_count": 39,
   "metadata": {},
   "outputs": [
    {
     "name": "stdout",
     "output_type": "stream",
     "text": [
      "Epoch 1/10\n",
      "625/625 [==============================] - 29s 19ms/step - loss: 1.2419 - accuracy: 0.5884 - val_loss: 1.0513 - val_accuracy: 0.6558\n",
      "Epoch 2/10\n",
      "625/625 [==============================] - 11s 17ms/step - loss: 0.9355 - accuracy: 0.6916 - val_loss: 0.9555 - val_accuracy: 0.6880\n",
      "Epoch 3/10\n",
      "625/625 [==============================] - 10s 16ms/step - loss: 0.8267 - accuracy: 0.7281 - val_loss: 0.9258 - val_accuracy: 0.6963\n",
      "Epoch 4/10\n",
      "625/625 [==============================] - 10s 17ms/step - loss: 0.7447 - accuracy: 0.7551 - val_loss: 0.9083 - val_accuracy: 0.7061\n",
      "Epoch 5/10\n",
      "625/625 [==============================] - 10s 17ms/step - loss: 0.6727 - accuracy: 0.7796 - val_loss: 0.9272 - val_accuracy: 0.7035\n",
      "Epoch 6/10\n",
      "625/625 [==============================] - 10s 17ms/step - loss: 0.5951 - accuracy: 0.8019 - val_loss: 0.9706 - val_accuracy: 0.7007\n",
      "Epoch 7/10\n",
      "625/625 [==============================] - 10s 16ms/step - loss: 0.5284 - accuracy: 0.8247 - val_loss: 1.0333 - val_accuracy: 0.6917\n",
      "Epoch 8/10\n",
      "625/625 [==============================] - 10s 16ms/step - loss: 0.4584 - accuracy: 0.8469 - val_loss: 1.0951 - val_accuracy: 0.6881\n",
      "Epoch 9/10\n",
      "625/625 [==============================] - 10s 16ms/step - loss: 0.3910 - accuracy: 0.8699 - val_loss: 1.2130 - val_accuracy: 0.6783\n",
      "Epoch 10/10\n",
      "625/625 [==============================] - 10s 16ms/step - loss: 0.3290 - accuracy: 0.8899 - val_loss: 1.3602 - val_accuracy: 0.6628\n"
     ]
    }
   ],
   "source": [
    "epochs=10\n",
    "batch_size=64\n",
    "        \n",
    "history = model.fit(X_train[:40000], y_train[:40000], epochs=epochs, batch_size=batch_size,\n",
    "                        validation_data=(X_val[:40000],y_val[:40000]),)"
   ]
  },
  {
   "cell_type": "code",
   "execution_count": 40,
   "metadata": {},
   "outputs": [
    {
     "name": "stdout",
     "output_type": "stream",
     "text": [
      "Mon Jul 18 21:49:33 2022       \n",
      "+-----------------------------------------------------------------------------+\n",
      "| NVIDIA-SMI 460.89       Driver Version: 460.89       CUDA Version: 11.2     |\n",
      "|-------------------------------+----------------------+----------------------+\n",
      "| GPU  Name            TCC/WDDM | Bus-Id        Disp.A | Volatile Uncorr. ECC |\n",
      "| Fan  Temp  Perf  Pwr:Usage/Cap|         Memory-Usage | GPU-Util  Compute M. |\n",
      "|                               |                      |               MIG M. |\n",
      "|===============================+======================+======================|\n",
      "|   0  GeForce GTX 105... WDDM  | 00000000:01:00.0 Off |                  N/A |\n",
      "| N/A   53C    P0    N/A /  N/A |    989MiB /  2048MiB |     45%      Default |\n",
      "|                               |                      |                  N/A |\n",
      "+-------------------------------+----------------------+----------------------+\n",
      "                                                                               \n",
      "+-----------------------------------------------------------------------------+\n",
      "| Processes:                                                                  |\n",
      "|  GPU   GI   CI        PID   Type   Process name                  GPU Memory |\n",
      "|        ID   ID                                                   Usage      |\n",
      "|=============================================================================|\n",
      "|    0   N/A  N/A      1336    C+G   Insufficient Permissions        N/A      |\n",
      "|    0   N/A  N/A      2140    C+G   ...m Files (x86)\\SCM\\SCM.exe    N/A      |\n",
      "|    0   N/A  N/A      3148    C+G   ...erver\\YourPhoneServer.exe    N/A      |\n",
      "|    0   N/A  N/A      6372    C+G   ...kyb3d8bbwe\\Calculator.exe    N/A      |\n",
      "|    0   N/A  N/A      9456    C+G   ...2txyewy\\TextInputHost.exe    N/A      |\n",
      "|    0   N/A  N/A     13776    C+G   ...artMenuExperienceHost.exe    N/A      |\n",
      "|    0   N/A  N/A     14624    C+G   ...5n1h2txyewy\\SearchApp.exe    N/A      |\n",
      "|    0   N/A  N/A     14740    C+G   ...ekyb3d8bbwe\\YourPhone.exe    N/A      |\n",
      "|    0   N/A  N/A     15152    C+G   ...5n1h2txyewy\\SearchApp.exe    N/A      |\n",
      "|    0   N/A  N/A     15900    C+G   ...cw5n1h2txyewy\\LockApp.exe    N/A      |\n",
      "|    0   N/A  N/A     16940    C+G   ...8wekyb3d8bbwe\\Cortana.exe    N/A      |\n",
      "|    0   N/A  N/A     17276    C+G   Insufficient Permissions        N/A      |\n",
      "|    0   N/A  N/A     17988    C+G   ...8wekyb3d8bbwe\\GameBar.exe    N/A      |\n",
      "|    0   N/A  N/A     18828      C   ....conda\\envs\\dl\\python.exe    N/A      |\n",
      "+-----------------------------------------------------------------------------+\n"
     ]
    }
   ],
   "source": [
    "!nvidia-smi"
   ]
  },
  {
   "cell_type": "markdown",
   "metadata": {},
   "source": [
    "## Test"
   ]
  },
  {
   "cell_type": "code",
   "execution_count": 41,
   "metadata": {},
   "outputs": [],
   "source": [
    "assert type(model)==tf.keras.models.Sequential, \"Model powinien być tf.keras.models.Sequential\"\n",
    "assert model.compiled_loss is not None, \"Skompiluj model\"\n",
    "assert model.loss == 'sparse_categorical_crossentropy', \"Użyj jako loss 'sparse_categorical_crossentropy'\"\n",
    "assert model.count_params()>7850, \"Zbuduj większy model\"\n",
    "assert all(['linear' not in str(l.activation) for l in model.layers if 'activation' in dir(l)]), 'Gdy nie podasz aktywacji, aktywacją jest funkcja liniowa; użyj ReLU, bądź softmax, odpowiednio'\n",
    "assert any(['Conv2D' in str(l) for l in model.layers if 'activation' in dir(l)]), 'Użyj konwolucji 2D'\n",
    "assert list(model.input.shape)==[None,28,28,1], \"Wejście do modelu powinno mieć rozmiar None,28,28,1\"\n",
    "assert list(model.output.shape)==[None,10],     \"Wyjście z modelu powinno mieć rozmiar None,10\"\n",
    "assert \"Adam\" in str(model.optimizer), \"Użyj adama jako optymalizatora\""
   ]
  },
  {
   "cell_type": "code",
   "execution_count": 42,
   "metadata": {},
   "outputs": [],
   "source": [
    "assert list(history.history.keys())==['loss', 'accuracy', 'val_loss', 'val_accuracy'], \"Trening powinien być z walidacją oraz metryką accuracy\"\n",
    "assert len(history.history['loss'])==10, \"Wystarczy 10 epok\""
   ]
  },
  {
   "cell_type": "markdown",
   "metadata": {},
   "source": [
    "## Wizualizacja historii treningu\n",
    "\n",
    "Przygotuj wykres na którym pokażesz jak podczas treningu zmieniało się training i validation accuracy."
   ]
  },
  {
   "cell_type": "code",
   "execution_count": 43,
   "metadata": {},
   "outputs": [
    {
     "data": {
      "text/plain": [
       "<matplotlib.legend.Legend at 0x24a7e0dec80>"
      ]
     },
     "execution_count": 43,
     "metadata": {},
     "output_type": "execute_result"
    },
    {
     "data": {
      "image/png": "[encoded data removed]",
      "text/plain": [
       "<Figure size 1440x720 with 1 Axes>"
      ]
     },
     "metadata": {},
     "output_type": "display_data"
    }
   ],
   "source": [
    "plt.figure(figsize=(20,10))\n",
    "plt.plot(history.history['accuracy'], label='acc')\n",
    "plt.plot(history.history['val_accuracy'], label='val_acc')\n",
    "plt.legend()"
   ]
  },
  {
   "cell_type": "code",
   "execution_count": 44,
   "metadata": {},
   "outputs": [
    {
     "data": {
      "text/plain": [
       "42046"
      ]
     },
     "execution_count": 44,
     "metadata": {},
     "output_type": "execute_result"
    }
   ],
   "source": [
    "del model \n",
    "tf.keras.backend.clear_session()\n",
    "gc.collect()"
   ]
  },
  {
   "cell_type": "markdown",
   "metadata": {},
   "source": [
    "### Test"
   ]
  },
  {
   "cell_type": "markdown",
   "metadata": {},
   "source": [
    "# Pytorch Lightning"
   ]
  },
  {
   "cell_type": "code",
   "execution_count": 45,
   "metadata": {},
   "outputs": [],
   "source": [
    "import torch\n",
    "from torch.nn import functional as F\n",
    "from torch import nn\n",
    "from torch.utils.data import TensorDataset, DataLoader\n",
    "from torch.utils import tensorboard\n",
    "\n",
    "from torchvision import datasets, transforms\n",
    "\n",
    "from pytorch_lightning.core.lightning import LightningModule\n",
    "from pytorch_lightning import Trainer\n",
    "from torchmetrics.functional.classification.accuracy import accuracy"
   ]
  },
  {
   "cell_type": "code",
   "execution_count": 46,
   "metadata": {},
   "outputs": [],
   "source": [
    "%load_ext tensorboard"
   ]
  },
  {
   "cell_type": "markdown",
   "metadata": {},
   "source": [
    "## klasa QuickDrawCNN_PL\n",
    "\n",
    "- [ ] Zamień dane na Tensory\n",
    "- [ ] Przekonwertuj dane do formatu NCHW z NHWC\n",
    "- [ ] Zapewnij odpowiedni typ danych dla etykiet\n",
    "- [ ] Przygotuj zbiór danych - skorzystaj z `TensorDataset`\n",
    "- [ ] Zaprojektuj architekturę sieci z minimum 1 warstwą konwolucyjną"
   ]
  },
  {
   "cell_type": "code",
   "execution_count": 55,
   "metadata": {},
   "outputs": [
    {
     "name": "stdout",
     "output_type": "stream",
     "text": [
      "(1610928, 28, 28)\n"
     ]
    }
   ],
   "source": [
    "X=np.concatenate((data), axis=0)  \n",
    "print(X.shape)"
   ]
  },
  {
   "cell_type": "code",
   "execution_count": 56,
   "metadata": {},
   "outputs": [],
   "source": [
    "y=[]\n",
    "for i in range(len(class_names)):\n",
    "    Label=[i]\n",
    "    #print(Label)\n",
    "    elements=data[i].shape[0]\n",
    "    #print(elements)\n",
    "    y=y+Label*elements\n",
    "y=np.array(y)"
   ]
  },
  {
   "cell_type": "code",
   "execution_count": 57,
   "metadata": {},
   "outputs": [
    {
     "name": "stdout",
     "output_type": "stream",
     "text": [
      "(1610928, 28, 28)\n",
      "(1610928, 1, 28, 28)\n"
     ]
    }
   ],
   "source": [
    "print(X.shape)\n",
    "X=X.reshape(-1,1,28,28)\n",
    "print(X.shape)"
   ]
  },
  {
   "cell_type": "code",
   "execution_count": 58,
   "metadata": {},
   "outputs": [],
   "source": [
    "from sklearn.model_selection import train_test_split"
   ]
  },
  {
   "cell_type": "code",
   "execution_count": 59,
   "metadata": {},
   "outputs": [],
   "source": [
    "#X_train, X_val, y_train, y_val = train_test_split(X, y, test_size=0.5)\n",
    "X_train, X_val, y_train, y_val = train_test_split(X, y, test_size=0.5, stratify=y)   "
   ]
  },
  {
   "cell_type": "code",
   "execution_count": 60,
   "metadata": {},
   "outputs": [],
   "source": [
    "X_train, X_val = X_train / 255, X_val / 255"
   ]
  },
  {
   "cell_type": "code",
   "execution_count": 61,
   "metadata": {
    "scrolled": true
   },
   "outputs": [
    {
     "name": "stdout",
     "output_type": "stream",
     "text": [
      "X_train.shape  (805464, 1, 28, 28)\n",
      "X_train.dtype  float64\n",
      "X_val.shape  (805464, 1, 28, 28)\n",
      "X_val.dtype  float64\n",
      "y_train.shape  (805464,)\n",
      "y_train.dtype  int32\n",
      "y_val.shape  (805464,)\n",
      "y_val.dtype  int32\n"
     ]
    }
   ],
   "source": [
    "print(\"X_train.shape \",X_train.shape)\n",
    "print(\"X_train.dtype \",X_train.dtype)\n",
    "print(\"X_val.shape \",X_val.shape)\n",
    "print(\"X_val.dtype \",X_val.dtype)\n",
    "print(\"y_train.shape \",y_train.shape)\n",
    "print(\"y_train.dtype \",y_train.dtype)\n",
    "print(\"y_val.shape \",y_val.shape)\n",
    "print(\"y_val.dtype \",y_val.dtype)"
   ]
  },
  {
   "cell_type": "code",
   "execution_count": 62,
   "metadata": {},
   "outputs": [],
   "source": [
    "X_train=X_train[:100000]\n",
    "X_val=X_val[:100000]\n",
    "y_train=y_train[:100000]\n",
    "y_val=y_val[:100000]"
   ]
  },
  {
   "cell_type": "code",
   "execution_count": 63,
   "metadata": {
    "scrolled": true
   },
   "outputs": [
    {
     "name": "stdout",
     "output_type": "stream",
     "text": [
      "X_train.shape  (100000, 1, 28, 28)\n",
      "X_train.dtype  float64\n",
      "X_val.shape  (100000, 1, 28, 28)\n",
      "X_val.dtype  float64\n",
      "y_train.shape  (100000,)\n",
      "y_train.dtype  int32\n",
      "y_val.shape  (100000,)\n",
      "y_val.dtype  int32\n"
     ]
    }
   ],
   "source": [
    "print(\"X_train.shape \",X_train.shape)\n",
    "print(\"X_train.dtype \",X_train.dtype)\n",
    "print(\"X_val.shape \",X_val.shape)\n",
    "print(\"X_val.dtype \",X_val.dtype)\n",
    "print(\"y_train.shape \",y_train.shape)\n",
    "print(\"y_train.dtype \",y_train.dtype)\n",
    "print(\"y_val.shape \",y_val.shape)\n",
    "print(\"y_val.dtype \",y_val.dtype)"
   ]
  },
  {
   "cell_type": "raw",
   "metadata": {},
   "source": [
    "%tensorboard --logdir logs/pt --port 6066"
   ]
  },
  {
   "cell_type": "code",
   "execution_count": 64,
   "metadata": {},
   "outputs": [],
   "source": [
    "class QuickDrawCNN_PL(LightningModule):\n",
    "    def __init__(self, X_train,y_train,X_val,y_val):\n",
    "        super().__init__()\n",
    "        \n",
    "        print(\"X_train.shape \",X_train.shape)\n",
    "        print(\"X_train.dtype \",X_train.dtype)\n",
    "        print(\"X_val.shape \",X_val.shape)\n",
    "        print(\"X_val.dtype \",X_val.dtype)\n",
    "        print(\"y_train.shape \",y_train.shape)\n",
    "        print(\"y_train.dtype \",y_train.dtype)\n",
    "        print(\"y_val.shape \",y_val.shape)\n",
    "        print(\"y_val.dtype \",y_val.dtype)\n",
    "        \n",
    "        self.X_train= torch.Tensor(X_train)\n",
    "        self.X_val=torch.Tensor(X_val)\n",
    "        \n",
    "        self.y_train=torch.from_numpy(np.array(y_train)).type(torch.LongTensor)\n",
    "        self.y_val=torch.from_numpy(np.array(y_val)).type(torch.LongTensor)\n",
    "        \n",
    "        self.train_dataset = TensorDataset(self.X_train, self.y_train)\n",
    "        self.val_dataset = TensorDataset(self.X_val, self.y_val)\n",
    "        \n",
    "        ####################\n",
    "        ### Don't chagne ###\n",
    "        assert type(self.X_train)==torch.Tensor\n",
    "        assert self.X_train.shape==torch.Size([len(X_train), 1, 28, 28])\n",
    "        assert self.X_train.dtype==torch.float32, \"Typ X_train niepoprawny\"\n",
    "        \n",
    "        assert type(self.y_train)==torch.Tensor\n",
    "        assert self.y_train.shape==torch.Size([len(X_train)])\n",
    "        assert self.y_train.dtype==torch.int64, \"Typ y_train niepoprawny\"\n",
    "        \n",
    "        assert type(self.X_val)==torch.Tensor\n",
    "        assert self.X_val.shape==torch.Size([len(X_val), 1, 28, 28])\n",
    "        assert self.X_val.dtype==torch.float32, \"Typ X_val niepoprawny\"\n",
    "\n",
    "        assert type(self.y_val)==torch.Tensor\n",
    "        assert self.y_val.shape==torch.Size([len(y_val)])\n",
    "        assert self.y_val.dtype==torch.int64, \"Typ y_val niepoprawny\"\n",
    "        ### Don't chagne ###\n",
    "        ####################\n",
    "        \n",
    "        self.num_classes = 10\n",
    "        self.dims = (1, 28, 28)\n",
    "        channels, width, height = self.dims\n",
    "        \n",
    "        self.transform = transforms.Compose([transforms.ToTensor(),])\n",
    "        \n",
    "        self.model = nn.Sequential(\n",
    "            nn.Conv2d(channels, 8, 3),\n",
    "            nn.ReLU(),\n",
    "            nn.Conv2d(8, 16, 3),\n",
    "            nn.ReLU(),\n",
    "            nn.Conv2d(16, 32, 3),\n",
    "            nn.ReLU(),\n",
    "            nn.Flatten(),\n",
    "            nn.Linear(15488, self.num_classes),\n",
    "        )\n",
    "        \n",
    "        ####################\n",
    "        ### Don't chagne ###\n",
    "        assert any(['Conv2d' in str(_) for _ in self.model]), \"Zastosuj przynajmniej jedną warstwę Conv2d\"\n",
    "        assert len([_ for _ in self.model if 'Conv2d' in str(_)])==len([_ for _ in self.model if 'ReLU' in str(_)]), \"Po każdej warstwie Conv2d zastosuj funkcję aktywacji ReLU\"\n",
    "        ### Don't chagne ###\n",
    "        ####################\n",
    "    def forward(self, x):\n",
    "        x = self.model(x)\n",
    "        return F.log_softmax(x, dim=1)\n",
    "\n",
    "    def training_step(self, batch, batch_idx):\n",
    "        x, y = batch\n",
    "        logits = self(x)\n",
    "        loss = F.nll_loss(logits, y)\n",
    "        return loss\n",
    "    \n",
    "    def configure_optimizers(self):\n",
    "        return torch.optim.Adam(self.parameters(), lr=1e-3)\n",
    "    \n",
    "    def validation_step(self, batch, batch_idx):\n",
    "        x, y = batch\n",
    "        logits = self(x)\n",
    "        loss = F.nll_loss(logits, y)\n",
    "        preds = torch.argmax(logits, dim=1)\n",
    "        acc = accuracy(preds, y)\n",
    "\n",
    "        # Calling self.log will surface up scalars for you in TensorBoard\n",
    "        self.log('val_loss', loss, prog_bar=True)\n",
    "        self.log('val_acc', acc, prog_bar=True)\n",
    "        return loss\n",
    "\n",
    "    def test_step(self, batch, batch_idx):\n",
    "        # Here we just reuse the validation_step for testing\n",
    "        return self.validation_step(batch, batch_idx)\n",
    "\n",
    "    def train_dataloader(self):\n",
    "        return DataLoader(self.train_dataset, batch_size=batch_size, num_workers=0)#num_workers=8\n",
    "\n",
    "    def val_dataloader(self):\n",
    "        return DataLoader(self.val_dataset, batch_size=batch_size, num_workers=0)#num_workers=8"
   ]
  },
  {
   "cell_type": "markdown",
   "metadata": {},
   "source": [
    "### Trening\n",
    "\n",
    "- [ ] Uruchom trening na 10 epok\n",
    "- [ ] Batch size ustaw na wartość np. od 32 do 256 (możesz mniej, możesz więcej)\n",
    "- [ ] Utwórz instancję klasy QuickDrawCNN_PL\n",
    "- [ ] Przygotuj `Trainer`\n",
    "- [ ] Uruchom trening"
   ]
  },
  {
   "cell_type": "code",
   "execution_count": 65,
   "metadata": {},
   "outputs": [],
   "source": [
    "epochs=10\n",
    "batch_size=64"
   ]
  },
  {
   "cell_type": "code",
   "execution_count": 66,
   "metadata": {
    "scrolled": false
   },
   "outputs": [
    {
     "name": "stdout",
     "output_type": "stream",
     "text": [
      "X_train.shape  (100000, 1, 28, 28)\n",
      "X_train.dtype  float64\n",
      "X_val.shape  (100000, 1, 28, 28)\n",
      "X_val.dtype  float64\n",
      "y_train.shape  (100000,)\n",
      "y_train.dtype  int32\n",
      "y_val.shape  (100000,)\n",
      "y_val.dtype  int32\n",
      "torch.Size([100000]) torch.Size([100000])\n",
      "<class 'torch.Size'> <class 'torch.Size'>\n"
     ]
    },
    {
     "name": "stderr",
     "output_type": "stream",
     "text": [
      "GPU available: True, used: True\n",
      "TPU available: False, using: 0 TPU cores\n",
      "IPU available: False, using: 0 IPUs\n",
      "HPU available: False, using: 0 HPUs\n",
      "LOCAL_RANK: 0 - CUDA_VISIBLE_DEVICES: [0]\n",
      "\n",
      "  | Name  | Type       | Params\n",
      "-------------------------------------\n",
      "0 | model | Sequential | 160 K \n",
      "-------------------------------------\n",
      "160 K     Trainable params\n",
      "0         Non-trainable params\n",
      "160 K     Total params\n",
      "0.643     Total estimated model params size (MB)\n"
     ]
    },
    {
     "data": {
      "application/vnd.jupyter.widget-view+json": {
       "model_id": "",
       "version_major": 2,
       "version_minor": 0
      },
      "text/plain": [
       "Sanity Checking: 0it [00:00, ?it/s]"
      ]
     },
     "metadata": {},
     "output_type": "display_data"
    },
    {
     "name": "stderr",
     "output_type": "stream",
     "text": [
      "C:\\Users\\Mateusz\\.conda\\envs\\dl\\lib\\site-packages\\pytorch_lightning\\trainer\\connectors\\data_connector.py:240: PossibleUserWarning: The dataloader, val_dataloader 0, does not have many workers which may be a bottleneck. Consider increasing the value of the `num_workers` argument` (try 8 which is the number of cpus on this machine) in the `DataLoader` init to improve performance.\n",
      "  rank_zero_warn(\n",
      "C:\\Users\\Mateusz\\.conda\\envs\\dl\\lib\\site-packages\\pytorch_lightning\\trainer\\connectors\\data_connector.py:240: PossibleUserWarning: The dataloader, train_dataloader, does not have many workers which may be a bottleneck. Consider increasing the value of the `num_workers` argument` (try 8 which is the number of cpus on this machine) in the `DataLoader` init to improve performance.\n",
      "  rank_zero_warn(\n"
     ]
    },
    {
     "data": {
      "application/vnd.jupyter.widget-view+json": {
       "model_id": "5d6f2e9cccf746b490afa425d67b4b42",
       "version_major": 2,
       "version_minor": 0
      },
      "text/plain": [
       "Training: 0it [00:00, ?it/s]"
      ]
     },
     "metadata": {},
     "output_type": "display_data"
    },
    {
     "data": {
      "application/vnd.jupyter.widget-view+json": {
       "model_id": "",
       "version_major": 2,
       "version_minor": 0
      },
      "text/plain": [
       "Validation: 0it [00:00, ?it/s]"
      ]
     },
     "metadata": {},
     "output_type": "display_data"
    },
    {
     "data": {
      "application/vnd.jupyter.widget-view+json": {
       "model_id": "",
       "version_major": 2,
       "version_minor": 0
      },
      "text/plain": [
       "Validation: 0it [00:00, ?it/s]"
      ]
     },
     "metadata": {},
     "output_type": "display_data"
    },
    {
     "data": {
      "application/vnd.jupyter.widget-view+json": {
       "model_id": "",
       "version_major": 2,
       "version_minor": 0
      },
      "text/plain": [
       "Validation: 0it [00:00, ?it/s]"
      ]
     },
     "metadata": {},
     "output_type": "display_data"
    },
    {
     "data": {
      "application/vnd.jupyter.widget-view+json": {
       "model_id": "",
       "version_major": 2,
       "version_minor": 0
      },
      "text/plain": [
       "Validation: 0it [00:00, ?it/s]"
      ]
     },
     "metadata": {},
     "output_type": "display_data"
    },
    {
     "data": {
      "application/vnd.jupyter.widget-view+json": {
       "model_id": "",
       "version_major": 2,
       "version_minor": 0
      },
      "text/plain": [
       "Validation: 0it [00:00, ?it/s]"
      ]
     },
     "metadata": {},
     "output_type": "display_data"
    },
    {
     "data": {
      "application/vnd.jupyter.widget-view+json": {
       "model_id": "",
       "version_major": 2,
       "version_minor": 0
      },
      "text/plain": [
       "Validation: 0it [00:00, ?it/s]"
      ]
     },
     "metadata": {},
     "output_type": "display_data"
    },
    {
     "data": {
      "application/vnd.jupyter.widget-view+json": {
       "model_id": "",
       "version_major": 2,
       "version_minor": 0
      },
      "text/plain": [
       "Validation: 0it [00:00, ?it/s]"
      ]
     },
     "metadata": {},
     "output_type": "display_data"
    },
    {
     "data": {
      "application/vnd.jupyter.widget-view+json": {
       "model_id": "",
       "version_major": 2,
       "version_minor": 0
      },
      "text/plain": [
       "Validation: 0it [00:00, ?it/s]"
      ]
     },
     "metadata": {},
     "output_type": "display_data"
    },
    {
     "data": {
      "application/vnd.jupyter.widget-view+json": {
       "model_id": "",
       "version_major": 2,
       "version_minor": 0
      },
      "text/plain": [
       "Validation: 0it [00:00, ?it/s]"
      ]
     },
     "metadata": {},
     "output_type": "display_data"
    },
    {
     "data": {
      "application/vnd.jupyter.widget-view+json": {
       "model_id": "",
       "version_major": 2,
       "version_minor": 0
      },
      "text/plain": [
       "Validation: 0it [00:00, ?it/s]"
      ]
     },
     "metadata": {},
     "output_type": "display_data"
    }
   ],
   "source": [
    "model = QuickDrawCNN_PL(X_train, y_train, X_val, y_val)\n",
    "trainer = Trainer(\n",
    "    gpus=1,\n",
    "    max_epochs=10,\n",
    ")\n",
    "trainer.fit(model)"
   ]
  },
  {
   "cell_type": "markdown",
   "metadata": {},
   "source": [
    "### Uruchom TensorBoard do wizualizacji wyników"
   ]
  },
  {
   "cell_type": "code",
   "execution_count": 67,
   "metadata": {},
   "outputs": [
    {
     "name": "stdout",
     "output_type": "stream",
     "text": [
      "C:\\Users\\Mateusz\\AppData\\Local\\Temptensorboard-info\n"
     ]
    }
   ],
   "source": [
    "import tempfile\n",
    "print(tempfile.gettempdir()+'tensorboard-info')"
   ]
  },
  {
   "cell_type": "code",
   "execution_count": 68,
   "metadata": {},
   "outputs": [
    {
     "name": "stdout",
     "output_type": "stream",
     "text": [
      "Known TensorBoard instances:\n",
      "  - port 6006: logdir lightning_logs/ (started 1 day, 0:03:27 ago; pid 12644)\n"
     ]
    }
   ],
   "source": [
    "from tensorboard import notebook\n",
    "notebook.list()"
   ]
  },
  {
   "cell_type": "code",
   "execution_count": 71,
   "metadata": {
    "scrolled": true
   },
   "outputs": [
    {
     "name": "stdout",
     "output_type": "stream",
     "text": [
      "razem 396K\n",
      "drw-rw-rw-  37 Mateusz 0 392K 2022-07-18 22:06 ..\n",
      "drw-rw-rw-   2 Mateusz 0 4,0K 2022-07-18 22:06 .\n"
     ]
    }
   ],
   "source": [
    "!ls -ltrha C:\\Users\\Mateusz\\AppData\\Local\\Temp\\.tensorboard-info\n",
    "#!rm C:\\Users\\Mateusz\\AppData\\Local\\Temp\\.tensorboard-info"
   ]
  },
  {
   "cell_type": "code",
   "execution_count": 72,
   "metadata": {},
   "outputs": [
    {
     "name": "stdout",
     "output_type": "stream",
     "text": [
      "The tensorboard extension is already loaded. To reload it, use:\n",
      "  %reload_ext tensorboard\n"
     ]
    },
    {
     "data": {
      "text/html": [
       "\n",
       "      <iframe id=\"tensorboard-frame-eee496da3e75e181\" width=\"100%\" height=\"800\" frameborder=\"0\">\n",
       "      </iframe>\n",
       "      <script>\n",
       "        (function() {\n",
       "          const frame = document.getElementById(\"tensorboard-frame-eee496da3e75e181\");\n",
       "          const url = new URL(\"/\", window.location);\n",
       "          const port = 6006;\n",
       "          if (port) {\n",
       "            url.port = port;\n",
       "          }\n",
       "          frame.src = url;\n",
       "        })();\n",
       "      </script>\n",
       "    "
      ],
      "text/plain": [
       "<IPython.core.display.HTML object>"
      ]
     },
     "metadata": {},
     "output_type": "display_data"
    }
   ],
   "source": [
    "%load_ext tensorboard\n",
    "#%reload_ext tensorboard\n",
    "%tensorboard --logdir lightning_logs/"
   ]
  },
  {
   "cell_type": "code",
   "execution_count": 73,
   "metadata": {},
   "outputs": [
    {
     "data": {
      "text/plain": [
       "66"
      ]
     },
     "execution_count": 73,
     "metadata": {},
     "output_type": "execute_result"
    }
   ],
   "source": [
    "gc.collect()"
   ]
  },
  {
   "cell_type": "code",
   "execution_count": 74,
   "metadata": {},
   "outputs": [],
   "source": [
    "del model"
   ]
  },
  {
   "cell_type": "code",
   "execution_count": null,
   "metadata": {},
   "outputs": [],
   "source": []
  }
 ],
 "metadata": {
  "kernelspec": {
   "display_name": "Python 3 (ipykernel)",
   "language": "python",
   "name": "python3"
  },
  "language_info": {
   "codemirror_mode": {
    "name": "ipython",
    "version": 3
   },
   "file_extension": ".py",
   "mimetype": "text/x-python",
   "name": "python",
   "nbconvert_exporter": "python",
   "pygments_lexer": "ipython3",
   "version": "3.10.4"
  }
 },
 "nbformat": 4,
 "nbformat_minor": 4
}
